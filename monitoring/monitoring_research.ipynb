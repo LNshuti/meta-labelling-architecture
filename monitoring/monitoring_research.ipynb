{
 "cells": [
  {
   "cell_type": "code",
   "execution_count": null,
   "metadata": {},
   "outputs": [
    {
     "ename": "",
     "evalue": "",
     "output_type": "error",
     "traceback": [
      "\u001b[1;31mRunning cells with 'c:\\Users\\Leonce Nshuti\\miniconda3\\python.exe' requires the ipykernel package.\n",
      "\u001b[1;31mRun the following command to install 'ipykernel' into the Python environment. \n",
      "\u001b[1;31mCommand: 'conda install -p c:\\Users\\Leonce Nshuti\\miniconda3 ipykernel --update-deps --force-reinstall'"
     ]
    }
   ],
   "source": [
    "import wandb \n",
    "\n",
    "config = {'learning_rate': 0.001}\n",
    "\n",
    "wandb.init(project=\"meta-labelling\", config=config)\n",
    "\n",
    "# Model training \n",
    "\n",
    "# Log metrics over time \n",
    "wandb.log({\"accuracy\": 0.8, \"loss\": 1.0})\n",
    "\n",
    "wandb.finish()\n"
   ]
  }
 ],
 "metadata": {
  "kernelspec": {
   "display_name": "Python 3",
   "language": "python",
   "name": "python3"
  },
  "language_info": {
   "name": "python",
   "version": "3.10.10"
  },
  "orig_nbformat": 4
 },
 "nbformat": 4,
 "nbformat_minor": 2
}
