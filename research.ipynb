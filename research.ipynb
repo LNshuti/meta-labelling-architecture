{
 "cells": [
  {
   "cell_type": "markdown",
   "metadata": {},
   "source": [
    "#### Steps to setup Openbb SDK in Jupyter notebook\n",
    "\n",
    "1. Check conda version\n",
    "\n",
    "    $ conda --version \n",
    "\n",
    "2. Update conda recommended\n",
    "\n",
    "    $ conda update -n base -c conda-forge conda\n",
    "\n",
    "3. Setup and activate the `meta-labell` environment\n",
    "\n",
    "    $ conda env create --file=environment.yaml\n",
    "\n",
    "    $ conda activate meta-labell    \n",
    "\n",
    "4. Install openbb sdk\n",
    "    \n",
    "    $ pip install \"openbb\" --no-cache-dir              "
   ]
  },
  {
   "cell_type": "markdown",
   "metadata": {},
   "source": [
    "### Introduction \n",
    "This notebook studies fundamentals and price signals of common cryptocurrencies using the OpenBB SDK. We consider the universe of cryptos with at least a $ 100 Million USD market capitalization on Coinmarketcap.  \n",
    "\n",
    "### Data\n",
    "We use the OpenBB SDK to download the data from the OpenBB API. The data is stored in a local database. The data is updated daily. \n",
    "\n",
    "### Methods \n",
    "We begin with a simple forecasting model such as AutoArima and explore intra-day changes in volatility and prices. As part of our token selection process, we also use fundamental knowledge about each cryptocurrency, especially for newer tokens such as the number of developers on each project's Github, and the frequency of commits. \n"
   ]
  },
  {
   "cell_type": "code",
   "execution_count": 1,
   "metadata": {},
   "outputs": [],
   "source": [
    "%load_ext lineapy"
   ]
  },
  {
   "cell_type": "code",
   "execution_count": 2,
   "metadata": {},
   "outputs": [
    {
     "name": "stderr",
     "output_type": "stream",
     "text": [
      "START                                                                           \n",
      "END                                                                             \n",
      "START                                                                           \n",
      "END                                                                             \n",
      "START                                                                           \n",
      "END                                                                             \n"
     ]
    },
    {
     "data": {
      "text/html": [
       "<pre style=\"white-space:pre;overflow-x:auto;line-height:normal;font-family:Menlo,'DejaVu Sans Mono',consolas,'Courier New',monospace\"><span style=\"color: #808000; text-decoration-color: #808000\">Forecasting Toolkit is disabled. To use the Forecasting features please install the toolkit following the instructions here: https://my.openbb.co/app/sdk/installation</span>\n",
       "\n",
       "</pre>\n"
      ],
      "text/plain": [
       "\u001b[33mForecasting Toolkit is disabled. To use the Forecasting features please install the toolkit following the instructions here: https://my.openbb.co/app/sdk/installation\u001b[0m\n",
       "\n"
      ]
     },
     "metadata": {},
     "output_type": "display_data"
    },
    {
     "data": {
      "text/html": [
       "<pre style=\"white-space:pre;overflow-x:auto;line-height:normal;font-family:Menlo,'DejaVu Sans Mono',consolas,'Courier New',monospace\"><span style=\"color: #808000; text-decoration-color: #808000\">Portfolio Optimization Toolkit is disabled. To use the Optimization features please install the toolkit following the instructions here: https://my.openbb.co/app/sdk/installation</span>\n",
       "\n",
       "</pre>\n"
      ],
      "text/plain": [
       "\u001b[33mPortfolio Optimization Toolkit is disabled. To use the Optimization features please install the toolkit following the instructions here: https://my.openbb.co/app/sdk/installation\u001b[0m\n",
       "\n"
      ]
     },
     "metadata": {},
     "output_type": "display_data"
    },
    {
     "name": "stderr",
     "output_type": "stream",
     "text": [
      "Logging configuration finished                                                  \n",
      "Logging set to \u001b[1m[\u001b[0m\u001b[32m'file'\u001b[0m, \u001b[32m'posthog'\u001b[0m\u001b[1m]\u001b[0m                                              \n",
      "Verbosity set to \u001b[1;36m20\u001b[0m                                                             \n",
      "LOGFORMAT:                                                                      \n",
      "%\u001b[1m(\u001b[0mlevelname\u001b[1m)\u001b[0ms-%\u001b[1m(\u001b[0mappName\u001b[1m)\u001b[0ms-%\u001b[1m(\u001b[0mcommitHash\u001b[1m)\u001b[0ms-%\u001b[1m(\u001b[0mappId\u001b[1m)\u001b[0ms-%\u001b[1m(\u001b[0msessionId\u001b[1m)\u001b[0ms-%\u001b[1m(\u001b[0muserId\u001b[1m)\u001b[0ms-%\u001b[1m(\u001b[0mas\n",
      "ctime\u001b[1m)\u001b[0ms-%\u001b[1m(\u001b[0mname\u001b[1m)\u001b[0ms-%\u001b[1m(\u001b[0mfuncName\u001b[1m)\u001b[0ms-%\u001b[1m(\u001b[0mlineno\u001b[1m)\u001b[0ms-%\u001b[1m(\u001b[0mmessage\u001b[1m)\u001b[0ms                            \n",
      "STARTUP: \u001b[1m{\u001b[0m\u001b[32m\"PREFERENCES\"\u001b[0m: \u001b[1m{\u001b[0m\u001b[32m\"PLOT_BACKEND\"\u001b[0m: null, \u001b[32m\"PLOT_DPI\"\u001b[0m: \u001b[1;36m100\u001b[0m, \u001b[32m\"PLOT_HEIGHT\"\u001b[0m: \n",
      "\u001b[1;36m500\u001b[0m, \u001b[32m\"PLOT_WIDTH\"\u001b[0m: \u001b[1;36m800\u001b[0m, \u001b[32m\"PLOT_HEIGHT_PERCENTAGE\"\u001b[0m: \u001b[1;36m50.0\u001b[0m, \u001b[32m\"PLOT_WIDTH_PERCENTAGE\"\u001b[0m:\n",
      "\u001b[1;36m70.0\u001b[0m, \u001b[32m\"PLOT_OPEN_EXPORT\"\u001b[0m: false, \u001b[32m\"PLOT_ENABLE_PYWRY\"\u001b[0m: true, \u001b[32m\"PLOT_PYWRY_WIDTH\"\u001b[0m: \n",
      "\u001b[1;36m1400\u001b[0m, \u001b[32m\"PLOT_PYWRY_HEIGHT\"\u001b[0m: \u001b[1;36m762\u001b[0m, \u001b[32m\"FILE_OVERWRITE\"\u001b[0m: false, \u001b[32m\"SHOW_VERSION\"\u001b[0m: true,  \n",
      "\u001b[32m\"RETRY_WITH_LOAD\"\u001b[0m: false, \u001b[32m\"USE_TABULATE_DF\"\u001b[0m: true, \u001b[32m\"USE_INTERACTIVE_DF\"\u001b[0m: true,  \n",
      "\u001b[32m\"USE_CLEAR_AFTER_CMD\"\u001b[0m: false, \u001b[32m\"USE_DATETIME\"\u001b[0m: true, \u001b[32m\"USE_PROMPT_TOOLKIT\"\u001b[0m: true, \n",
      "\u001b[32m\"USE_PLOT_AUTOSCALING\"\u001b[0m: false, \u001b[32m\"ENABLE_THOUGHTS_DAY\"\u001b[0m: false,                    \n",
      "\u001b[32m\"ENABLE_QUICK_EXIT\"\u001b[0m: false, \u001b[32m\"OPEN_REPORT_AS_HTML\"\u001b[0m: true,                        \n",
      "\u001b[32m\"ENABLE_EXIT_AUTO_HELP\"\u001b[0m: true, \u001b[32m\"REMEMBER_CONTEXTS\"\u001b[0m: true, \u001b[32m\"ENABLE_RICH_PANEL\"\u001b[0m:  \n",
      "true, \u001b[32m\"ENABLE_CHECK_API\"\u001b[0m: true, \u001b[32m\"TOOLBAR_HINT\"\u001b[0m: true, \u001b[32m\"PREVIOUS_USE\"\u001b[0m: true,     \n",
      "\u001b[32m\"TIMEZONE\"\u001b[0m: \u001b[32m\"America/New_York\"\u001b[0m, \u001b[32m\"FLAIR\"\u001b[0m: \u001b[32m\":bug\"\u001b[0m, \u001b[32m\"USE_LANGUAGE\"\u001b[0m: \u001b[32m\"en\"\u001b[0m,          \n",
      "\u001b[32m\"REQUEST_TIMEOUT\"\u001b[0m: \u001b[1;36m5\u001b[0m, \u001b[32m\"MONITOR\"\u001b[0m: \u001b[1;36m0\u001b[0m, \u001b[32m\"MPL_STYLE\"\u001b[0m: \u001b[32m\"dark\"\u001b[0m, \u001b[32m\"PMF_STYLE\"\u001b[0m: \u001b[32m\"dark\"\u001b[0m,   \n",
      "\u001b[32m\"RICH_STYLE\"\u001b[0m: \u001b[32m\"dark\"\u001b[0m, \u001b[32m\"CHART_STYLE\"\u001b[0m: \u001b[32m\"dark\"\u001b[0m, \u001b[32m\"TABLE_STYLE\"\u001b[0m: \u001b[32m\"dark\"\u001b[0m,             \n",
      "\u001b[32m\"GUESS_EASTER_EGG_FILE\"\u001b[0m:                                                        \n",
      "\u001b[32m\"/Users/lnshuti/Desktop/portfolio/meta-labelling-architecture/guess_game.json\"\u001b[0m, \n",
      "\u001b[32m\"USER_DATA_SOURCES_FILE\"\u001b[0m: \u001b[32m\"/Users/lnshuti/OpenBBUserData/sources/sources.json\"\u001b[0m\u001b[1m}\u001b[0m,\n",
      "\u001b[32m\"KEYS\"\u001b[0m: \u001b[1m{\u001b[0m\u001b[32m\"API_BINANCE_KEY\"\u001b[0m: \u001b[32m\"not_defined\"\u001b[0m, \u001b[32m\"API_BINANCE_SECRET\"\u001b[0m: \u001b[32m\"not_defined\"\u001b[0m, \n",
      "\u001b[32m\"API_BITQUERY_KEY\"\u001b[0m: \u001b[32m\"not_defined\"\u001b[0m, \u001b[32m\"API_BIZTOC_TOKEN\"\u001b[0m: \u001b[32m\"not_defined\"\u001b[0m,           \n",
      "\u001b[32m\"API_CMC_KEY\"\u001b[0m: \u001b[32m\"not_defined\"\u001b[0m, \u001b[32m\"API_COINBASE_KEY\"\u001b[0m: \u001b[32m\"not_defined\"\u001b[0m,                \n",
      "\u001b[32m\"API_COINBASE_PASS_PHRASE\"\u001b[0m: \u001b[32m\"not_defined\"\u001b[0m, \u001b[32m\"API_COINBASE_SECRET\"\u001b[0m: \u001b[32m\"not_defined\"\u001b[0m,\n",
      "\u001b[32m\"API_COINGLASS_KEY\"\u001b[0m: \u001b[32m\"not_defined\"\u001b[0m, \u001b[32m\"API_CRYPTO_PANIC_KEY\"\u001b[0m: \u001b[32m\"not_defined\"\u001b[0m,      \n",
      "\u001b[32m\"API_DAPPRADAR_KEY\"\u001b[0m: \u001b[32m\"not_defined\"\u001b[0m, \u001b[32m\"API_DATABENTO_KEY\"\u001b[0m: \u001b[32m\"not_defined\"\u001b[0m,         \n",
      "\u001b[32m\"API_EODHD_KEY\"\u001b[0m: \u001b[32m\"not_defined\"\u001b[0m, \u001b[32m\"API_ETHPLORER_KEY\"\u001b[0m: \u001b[32m\"not_defined\"\u001b[0m,             \n",
      "\u001b[32m\"API_FINNHUB_KEY\"\u001b[0m: \u001b[32m\"not_defined\"\u001b[0m, \u001b[32m\"API_FRED_KEY\"\u001b[0m: \u001b[32m\"defined\"\u001b[0m, \u001b[32m\"API_GITHUB_KEY\"\u001b[0m:  \n",
      "\u001b[32m\"not_defined\"\u001b[0m, \u001b[32m\"API_GLASSNODE_KEY\"\u001b[0m: \u001b[32m\"not_defined\"\u001b[0m, \u001b[32m\"API_INTRINIO_KEY\"\u001b[0m:          \n",
      "\u001b[32m\"not_defined\"\u001b[0m, \u001b[32m\"API_KEY_ALPHAVANTAGE\"\u001b[0m: \u001b[32m\"not_defined\"\u001b[0m,                           \n",
      "\u001b[32m\"API_KEY_FINANCIALMODELINGPREP\"\u001b[0m: \u001b[32m\"not_defined\"\u001b[0m, \u001b[32m\"API_KEY_QUANDL\"\u001b[0m: \u001b[32m\"not_defined\"\u001b[0m,\n",
      "\u001b[32m\"API_MESSARI_KEY\"\u001b[0m: \u001b[32m\"not_defined\"\u001b[0m, \u001b[32m\"API_NEWS_TOKEN\"\u001b[0m: \u001b[32m\"not_defined\"\u001b[0m,              \n",
      "\u001b[32m\"API_OPENAI_KEY\"\u001b[0m: \u001b[32m\"not_defined\"\u001b[0m, \u001b[32m\"API_POLYGON_KEY\"\u001b[0m: \u001b[32m\"defined\"\u001b[0m,                  \n",
      "\u001b[32m\"API_REDDIT_CLIENT_ID\"\u001b[0m: \u001b[32m\"not_defined\"\u001b[0m, \u001b[32m\"API_REDDIT_CLIENT_SECRET\"\u001b[0m:              \n",
      "\u001b[32m\"not_defined\"\u001b[0m, \u001b[32m\"API_REDDIT_PASSWORD\"\u001b[0m: \u001b[32m\"not_defined\"\u001b[0m, \u001b[32m\"API_REDDIT_USERNAME\"\u001b[0m:     \n",
      "\u001b[32m\"not_defined\"\u001b[0m, \u001b[32m\"API_REDDIT_USER_AGENT\"\u001b[0m: \u001b[32m\"not_defined\"\u001b[0m, \u001b[32m\"API_SANTIMENT_KEY\"\u001b[0m:     \n",
      "\u001b[32m\"not_defined\"\u001b[0m, \u001b[32m\"API_SHROOM_KEY\"\u001b[0m: \u001b[32m\"not_defined\"\u001b[0m, \u001b[32m\"API_SMARTSTAKE_KEY\"\u001b[0m:           \n",
      "\u001b[32m\"not_defined\"\u001b[0m, \u001b[32m\"API_SMARTSTAKE_TOKEN\"\u001b[0m: \u001b[32m\"not_defined\"\u001b[0m, \u001b[32m\"API_STOCKSERA_KEY\"\u001b[0m:      \n",
      "\u001b[32m\"not_defined\"\u001b[0m, \u001b[32m\"API_TOKEN_TERMINAL_KEY\"\u001b[0m: \u001b[32m\"not_defined\"\u001b[0m, \u001b[32m\"API_TRADIER_TOKEN\"\u001b[0m:    \n",
      "\u001b[32m\"not_defined\"\u001b[0m, \u001b[32m\"API_TWITTER_BEARER_TOKEN\"\u001b[0m: \u001b[32m\"not_defined\"\u001b[0m, \u001b[32m\"API_TWITTER_KEY\"\u001b[0m:    \n",
      "\u001b[32m\"not_defined\"\u001b[0m, \u001b[32m\"API_TWITTER_SECRET_KEY\"\u001b[0m: \u001b[32m\"not_defined\"\u001b[0m, \u001b[32m\"API_ULTIMA_KEY\"\u001b[0m:       \n",
      "\u001b[32m\"not_defined\"\u001b[0m, \u001b[32m\"API_WHALE_ALERT_KEY\"\u001b[0m: \u001b[32m\"not_defined\"\u001b[0m\u001b[1m}\u001b[0m, \u001b[32m\"SYSTEM\"\u001b[0m: \u001b[1m{\u001b[0m\u001b[32m\"OS\"\u001b[0m: \u001b[32m\"Darwin\"\u001b[0m,\n",
      "\u001b[32m\"PYTHON_VERSION\"\u001b[0m: \u001b[32m\"3.10.12\"\u001b[0m, \u001b[32m\"PLATFORM\"\u001b[0m: \u001b[32m\"macOS-13.5.2-arm64-arm-64bit\"\u001b[0m,        \n",
      "\u001b[32m\"VERSION\"\u001b[0m: \u001b[32m\"3.2.0\"\u001b[0m, \u001b[32m\"LOGGING_APP_ID\"\u001b[0m: \u001b[32m\"2c3c4390-1c8d-462f-ac08-343b481e2b62\"\u001b[0m,   \n",
      "\u001b[32m\"LOGGING_APP_NAME\"\u001b[0m: \u001b[32m\"gst_packaged_pypi\"\u001b[0m, \u001b[32m\"LOGGING_COMMIT_HASH\"\u001b[0m:                 \n",
      "\u001b[32m\"unknown-commit\"\u001b[0m, \u001b[32m\"LOGGING_BRANCH\"\u001b[0m: \u001b[32m\"unknown-branch\"\u001b[0m, \u001b[32m\"LOGGING_FREQUENCY\"\u001b[0m: \u001b[32m\"H\"\u001b[0m, \n",
      "\u001b[32m\"LOGGING_HANDLERS\"\u001b[0m: \u001b[1m[\u001b[0m\u001b[32m\"file\"\u001b[0m, \u001b[32m\"posthog\"\u001b[0m\u001b[1m]\u001b[0m, \u001b[32m\"LOGGING_ROLLING_CLOCK\"\u001b[0m: false,        \n",
      "\u001b[32m\"LOGGING_VERBOSITY\"\u001b[0m: \u001b[1;36m20\u001b[0m, \u001b[32m\"LOGGING_SUB_APP\"\u001b[0m: \u001b[32m\"sdk\"\u001b[0m, \u001b[32m\"LOGGING_SUPPRESS\"\u001b[0m: false,   \n",
      "\u001b[32m\"LOGGING_SEND_TO_S3\"\u001b[0m: false, \u001b[32m\"LOG_COLLECT\"\u001b[0m: true, \u001b[32m\"DISABLE_STREAMLIT_WARNING\"\u001b[0m:  \n",
      "false, \u001b[32m\"DISABLE_FORECASTING_WARNING\"\u001b[0m: true, \u001b[32m\"DISABLE_OPTIMIZATION_WARNING\"\u001b[0m:     \n",
      "true, \u001b[32m\"TEST_MODE\"\u001b[0m: false, \u001b[32m\"DEBUG_MODE\"\u001b[0m: false, \u001b[32m\"ENABLE_AUTHENTICATION\"\u001b[0m: true,   \n",
      "\u001b[32m\"\u001b[0m\u001b[1;33mHEAD\u001b[0m\u001b[32mLESS\"\u001b[0m: false\u001b[1m}\u001b[0m\u001b[1m}\u001b[0m                                                             \n",
      "START                                                                           \n",
      "END                                                                             \n"
     ]
    }
   ],
   "source": [
    "import numpy as np\n",
    "import pandas as pd\n",
    "from openbb_terminal.sdk import openbb\n",
    "from statsforecast.models import AutoARIMA\n",
    "import requests\n",
    "import re\n",
    "import altair as alt\n",
    "from scipy.linalg import svd\n",
    "import lineapy\n",
    "\n",
    "from statsmodels.graphics.tsaplots import plot_acf\n",
    "from statsmodels.tsa.stattools import acf\n",
    "%matplotlib inline\n",
    "\n",
    "# Turn off warnings and messages \n",
    "import warnings\n",
    "warnings.filterwarnings('ignore')"
   ]
  },
  {
   "cell_type": "code",
   "execution_count": 3,
   "metadata": {},
   "outputs": [
    {
     "name": "stderr",
     "output_type": "stream",
     "text": [
      "START                                                                           \n",
      "\u001b[1m{\u001b[0m\u001b[32m\"IN\u001b[0m\u001b[1;33mPUT\u001b[0m\u001b[32m\"\u001b[0m: \u001b[1m{\u001b[0m\u001b[32m\"chart\"\u001b[0m: \u001b[32m\"False\"\u001b[0m\u001b[1m}\u001b[0m, \u001b[32m\"VIRTUAL_PATH\"\u001b[0m: \u001b[32m\"crypto.disc.trending\"\u001b[0m, \u001b[32m\"CHART\"\u001b[0m:  \n",
      "false\u001b[1m}\u001b[0m                                                                          \n",
      "START                                                                           \n",
      "END                                                                             \n",
      "END                                                                             \n"
     ]
    },
    {
     "data": {
      "text/html": [
       "<div>\n",
       "<style scoped>\n",
       "    .dataframe tbody tr th:only-of-type {\n",
       "        vertical-align: middle;\n",
       "    }\n",
       "\n",
       "    .dataframe tbody tr th {\n",
       "        vertical-align: top;\n",
       "    }\n",
       "\n",
       "    .dataframe thead th {\n",
       "        text-align: right;\n",
       "    }\n",
       "</style>\n",
       "<table border=\"1\" class=\"dataframe\">\n",
       "  <thead>\n",
       "    <tr style=\"text-align: right;\">\n",
       "      <th></th>\n",
       "      <th>Symbol</th>\n",
       "      <th>Name</th>\n",
       "      <th>market_cap Cap Rank</th>\n",
       "    </tr>\n",
       "  </thead>\n",
       "  <tbody>\n",
       "    <tr>\n",
       "      <th>0</th>\n",
       "      <td>bella-protocol</td>\n",
       "      <td>Bella Protocol</td>\n",
       "      <td>471</td>\n",
       "    </tr>\n",
       "    <tr>\n",
       "      <th>1</th>\n",
       "      <td>bonk</td>\n",
       "      <td>Bonk</td>\n",
       "      <td>931</td>\n",
       "    </tr>\n",
       "    <tr>\n",
       "      <th>2</th>\n",
       "      <td>gala</td>\n",
       "      <td>GALA</td>\n",
       "      <td>93</td>\n",
       "    </tr>\n",
       "    <tr>\n",
       "      <th>3</th>\n",
       "      <td>bitcoin</td>\n",
       "      <td>Bitcoin</td>\n",
       "      <td>1</td>\n",
       "    </tr>\n",
       "    <tr>\n",
       "      <th>4</th>\n",
       "      <td>trust-wallet-token</td>\n",
       "      <td>Trust Wallet</td>\n",
       "      <td>100</td>\n",
       "    </tr>\n",
       "    <tr>\n",
       "      <th>5</th>\n",
       "      <td>qanplatform</td>\n",
       "      <td>QANplatform</td>\n",
       "      <td>292</td>\n",
       "    </tr>\n",
       "    <tr>\n",
       "      <th>6</th>\n",
       "      <td>veloce-vext</td>\n",
       "      <td>Veloce</td>\n",
       "      <td>809</td>\n",
       "    </tr>\n",
       "  </tbody>\n",
       "</table>\n",
       "</div>"
      ],
      "text/plain": [
       "               Symbol            Name  market_cap Cap Rank\n",
       "0      bella-protocol  Bella Protocol                  471\n",
       "1                bonk            Bonk                  931\n",
       "2                gala            GALA                   93\n",
       "3             bitcoin         Bitcoin                    1\n",
       "4  trust-wallet-token    Trust Wallet                  100\n",
       "5         qanplatform     QANplatform                  292\n",
       "6         veloce-vext          Veloce                  809"
      ]
     },
     "execution_count": 3,
     "metadata": {},
     "output_type": "execute_result"
    }
   ],
   "source": [
    "# Show trending coins\n",
    "openbb.crypto.disc.trending()"
   ]
  },
  {
   "cell_type": "code",
   "execution_count": 4,
   "metadata": {},
   "outputs": [
    {
     "name": "stderr",
     "output_type": "stream",
     "text": [
      "START                                                                           \n",
      "\u001b[1m{\u001b[0m\u001b[32m\"IN\u001b[0m\u001b[1;33mPUT\u001b[0m\u001b[32m\"\u001b[0m: \u001b[1m{\u001b[0m\u001b[32m\"start_date\"\u001b[0m: \u001b[32m\"2019-01-01\"\u001b[0m, \u001b[32m\"interval\"\u001b[0m: \u001b[32m\"1440\"\u001b[0m, \u001b[32m\"exchange\"\u001b[0m:          \n",
      "\u001b[32m\"binance\"\u001b[0m, \u001b[32m\"to_symbol\"\u001b[0m: \u001b[32m\"usd\"\u001b[0m, \u001b[32m\"end_date\"\u001b[0m: \u001b[32m\"None\"\u001b[0m, \u001b[32m\"source\"\u001b[0m: \u001b[32m\"YahooFinance\"\u001b[0m,    \n",
      "\u001b[32m\"symbol\"\u001b[0m: \u001b[32m\"btc\"\u001b[0m, \u001b[32m\"chart\"\u001b[0m: \u001b[32m\"False\"\u001b[0m\u001b[1m}\u001b[0m, \u001b[32m\"VIRTUAL_PATH\"\u001b[0m: \u001b[32m\"crypto.load\"\u001b[0m, \u001b[32m\"CHART\"\u001b[0m:     \n",
      "false\u001b[1m}\u001b[0m                                                                          \n",
      "END                                                                             \n",
      "START                                                                           \n",
      "\u001b[1m{\u001b[0m\u001b[32m\"IN\u001b[0m\u001b[1;33mPUT\u001b[0m\u001b[32m\"\u001b[0m: \u001b[1m{\u001b[0m\u001b[32m\"start_date\"\u001b[0m: \u001b[32m\"2019-01-01\"\u001b[0m, \u001b[32m\"interval\"\u001b[0m: \u001b[32m\"1440\"\u001b[0m, \u001b[32m\"exchange\"\u001b[0m:          \n",
      "\u001b[32m\"binance\"\u001b[0m, \u001b[32m\"to_symbol\"\u001b[0m: \u001b[32m\"usd\"\u001b[0m, \u001b[32m\"end_date\"\u001b[0m: \u001b[32m\"None\"\u001b[0m, \u001b[32m\"source\"\u001b[0m: \u001b[32m\"YahooFinance\"\u001b[0m,    \n",
      "\u001b[32m\"symbol\"\u001b[0m: \u001b[32m\"eth\"\u001b[0m, \u001b[32m\"chart\"\u001b[0m: \u001b[32m\"False\"\u001b[0m\u001b[1m}\u001b[0m, \u001b[32m\"VIRTUAL_PATH\"\u001b[0m: \u001b[32m\"crypto.load\"\u001b[0m, \u001b[32m\"CHART\"\u001b[0m:     \n",
      "false\u001b[1m}\u001b[0m                                                                          \n",
      "END                                                                             \n"
     ]
    },
    {
     "data": {
      "text/html": [
       "<div>\n",
       "<style scoped>\n",
       "    .dataframe tbody tr th:only-of-type {\n",
       "        vertical-align: middle;\n",
       "    }\n",
       "\n",
       "    .dataframe tbody tr th {\n",
       "        vertical-align: top;\n",
       "    }\n",
       "\n",
       "    .dataframe thead th {\n",
       "        text-align: right;\n",
       "    }\n",
       "</style>\n",
       "<table border=\"1\" class=\"dataframe\">\n",
       "  <thead>\n",
       "    <tr style=\"text-align: right;\">\n",
       "      <th></th>\n",
       "      <th>Open</th>\n",
       "      <th>High</th>\n",
       "      <th>Low</th>\n",
       "      <th>Close</th>\n",
       "      <th>Adj Close</th>\n",
       "      <th>Volume</th>\n",
       "      <th>coin</th>\n",
       "    </tr>\n",
       "    <tr>\n",
       "      <th>date</th>\n",
       "      <th></th>\n",
       "      <th></th>\n",
       "      <th></th>\n",
       "      <th></th>\n",
       "      <th></th>\n",
       "      <th></th>\n",
       "      <th></th>\n",
       "    </tr>\n",
       "  </thead>\n",
       "  <tbody>\n",
       "    <tr>\n",
       "      <th>2023-09-07</th>\n",
       "      <td>1632.262817</td>\n",
       "      <td>1657.303711</td>\n",
       "      <td>1623.220459</td>\n",
       "      <td>1647.598267</td>\n",
       "      <td>1647.598267</td>\n",
       "      <td>4907290296</td>\n",
       "      <td>eth</td>\n",
       "    </tr>\n",
       "    <tr>\n",
       "      <th>2023-09-08</th>\n",
       "      <td>1647.807617</td>\n",
       "      <td>1657.136353</td>\n",
       "      <td>1617.796509</td>\n",
       "      <td>1636.137817</td>\n",
       "      <td>1636.137817</td>\n",
       "      <td>4598495496</td>\n",
       "      <td>eth</td>\n",
       "    </tr>\n",
       "    <tr>\n",
       "      <th>2023-09-09</th>\n",
       "      <td>1636.050415</td>\n",
       "      <td>1636.870728</td>\n",
       "      <td>1629.660889</td>\n",
       "      <td>1635.162354</td>\n",
       "      <td>1635.162354</td>\n",
       "      <td>2081625742</td>\n",
       "      <td>eth</td>\n",
       "    </tr>\n",
       "    <tr>\n",
       "      <th>2023-09-10</th>\n",
       "      <td>1635.211670</td>\n",
       "      <td>1635.433105</td>\n",
       "      <td>1604.040527</td>\n",
       "      <td>1616.828857</td>\n",
       "      <td>1616.828857</td>\n",
       "      <td>4339499949</td>\n",
       "      <td>eth</td>\n",
       "    </tr>\n",
       "    <tr>\n",
       "      <th>2023-09-11</th>\n",
       "      <td>1616.769775</td>\n",
       "      <td>1618.305786</td>\n",
       "      <td>1533.426758</td>\n",
       "      <td>1551.637695</td>\n",
       "      <td>1551.637695</td>\n",
       "      <td>7693700923</td>\n",
       "      <td>eth</td>\n",
       "    </tr>\n",
       "  </tbody>\n",
       "</table>\n",
       "</div>"
      ],
      "text/plain": [
       "                   Open         High          Low        Close    Adj Close  \\\n",
       "date                                                                          \n",
       "2023-09-07  1632.262817  1657.303711  1623.220459  1647.598267  1647.598267   \n",
       "2023-09-08  1647.807617  1657.136353  1617.796509  1636.137817  1636.137817   \n",
       "2023-09-09  1636.050415  1636.870728  1629.660889  1635.162354  1635.162354   \n",
       "2023-09-10  1635.211670  1635.433105  1604.040527  1616.828857  1616.828857   \n",
       "2023-09-11  1616.769775  1618.305786  1533.426758  1551.637695  1551.637695   \n",
       "\n",
       "                Volume coin  \n",
       "date                         \n",
       "2023-09-07  4907290296  eth  \n",
       "2023-09-08  4598495496  eth  \n",
       "2023-09-09  2081625742  eth  \n",
       "2023-09-10  4339499949  eth  \n",
       "2023-09-11  7693700923  eth  "
      ]
     },
     "execution_count": 4,
     "metadata": {},
     "output_type": "execute_result"
    }
   ],
   "source": [
    "btc_df = openbb.crypto.load(symbol=\"btc\",to_symbol=\"usd\",start_date=\"2019-01-01\",source=\"YahooFinance\")\n",
    "eth_df = openbb.crypto.load(symbol=\"eth\",to_symbol=\"usd\",start_date=\"2019-01-01\",source=\"YahooFinance\")\n",
    "\n",
    "# Combine btc and eth dataframes and save under /data. Append current date to the filename. \n",
    "# Add a new column identifying which coin the row belongs to. \n",
    "btc_df['coin'] = 'btc'\n",
    "eth_df['coin'] = 'eth'\n",
    "btc_eth_df = pd.concat([btc_df,eth_df],axis=0)\n",
    "\n",
    "btc_eth_df.tail(5)"
   ]
  },
  {
   "cell_type": "code",
   "execution_count": 5,
   "metadata": {},
   "outputs": [],
   "source": [
    "# Save btc_eth_df as a csv file under /data\n",
    "btc_eth_df.to_csv('data/btc_eth_df.csv')"
   ]
  },
  {
   "cell_type": "code",
   "execution_count": 6,
   "metadata": {},
   "outputs": [
    {
     "data": {
      "text/plain": [
       "LineaArtifact(name='data/btc_eth_df', _version=0)"
      ]
     },
     "execution_count": 6,
     "metadata": {},
     "output_type": "execute_result"
    }
   ],
   "source": [
    "lineapy.save(btc_eth_df, \"data/btc_eth_df\")"
   ]
  },
  {
   "cell_type": "code",
   "execution_count": null,
   "metadata": {},
   "outputs": [],
   "source": [
    "# Plot the Adj Close price overtime for BTC\n",
    "import matplotlib.pyplot as plt\n",
    "\n",
    "btc_df['Adj Close'].plot(figsize=(10, 7), color='r')\n",
    "plt.ylabel('BTC Price')\n",
    "plt.title('BTC Price Over Time')"
   ]
  },
  {
   "cell_type": "code",
   "execution_count": null,
   "metadata": {},
   "outputs": [],
   "source": []
  },
  {
   "cell_type": "markdown",
   "metadata": {},
   "source": [
    "### References \n",
    "Sean Taylor. Gas Price Forecast. https://github.com/seanjtaylor/gas-price-forecast"
   ]
  }
 ],
 "metadata": {
  "kernelspec": {
   "display_name": "meta-labell",
   "language": "python",
   "name": "python3"
  },
  "language_info": {
   "codemirror_mode": {
    "name": "ipython",
    "version": 3
   },
   "file_extension": ".py",
   "mimetype": "text/x-python",
   "name": "python",
   "nbconvert_exporter": "python",
   "pygments_lexer": "ipython3",
   "version": "3.10.12"
  },
  "orig_nbformat": 4
 },
 "nbformat": 4,
 "nbformat_minor": 2
}
