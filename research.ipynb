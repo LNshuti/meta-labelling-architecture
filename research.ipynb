{
 "cells": [
  {
   "cell_type": "markdown",
   "metadata": {},
   "source": [
    "#### Steps to setup Openbb SDK in Jupyter notebook\n",
    "\n",
    "1. Check conda version\n",
    "\n",
    "    $ conda --version \n",
    "\n",
    "2. Update conda recommended\n",
    "\n",
    "    $ conda update -n base -c conda-forge conda\n",
    "\n",
    "3. Setup and activate the `meta-labell` environment\n",
    "\n",
    "    $ conda env create --file=environment.yaml\n",
    "\n",
    "    $ conda activate meta-labell    \n",
    "\n",
    "4. Install openbb sdk\n",
    "    \n",
    "    $ pip install \"openbb\" --no-cache-dir              "
   ]
  },
  {
   "cell_type": "markdown",
   "metadata": {},
   "source": [
    "### Introduction \n",
    "This notebook studies fundamentals and price signals of common cryptocurrencies using the OpenBB SDK. We consider the universe of cryptos with at least a $ 100 Million USD market capitalization on Coinmarketcap.  \n",
    "\n",
    "### Data\n",
    "We use the OpenBB SDK to download the data from the OpenBB API. The data is stored in a local database. The data is updated daily. \n",
    "\n",
    "### Methods \n",
    "We begin with a simple forecasting model such as AutoArima and explore intra-day changes in volatility and prices. As part of our token selection process, we also use fundamental knowledge about each cryptocurrency, especially for newer tokens such as the number of developers on each project's Github, and the frequency of commits. \n"
   ]
  },
  {
   "cell_type": "code",
   "execution_count": 1,
   "metadata": {},
   "outputs": [],
   "source": [
    "%load_ext lineapy"
   ]
  },
  {
   "cell_type": "code",
   "execution_count": 2,
   "metadata": {},
   "outputs": [
    {
     "name": "stderr",
     "output_type": "stream",
     "text": [
      "START                                                                           \n",
      "END                                                                             \n",
      "START                                                                           \n",
      "END                                                                             \n",
      "START                                                                           \n",
      "END                                                                             \n"
     ]
    },
    {
     "data": {
      "text/html": [
       "<pre style=\"white-space:pre;overflow-x:auto;line-height:normal;font-family:Menlo,'DejaVu Sans Mono',consolas,'Courier New',monospace\"><span style=\"color: #808000; text-decoration-color: #808000\">Forecasting Toolkit is disabled. To use the Forecasting features please install the toolkit following the instructions here: https://my.openbb.co/app/sdk/installation</span>\n",
       "\n",
       "</pre>\n"
      ],
      "text/plain": [
       "\u001b[33mForecasting Toolkit is disabled. To use the Forecasting features please install the toolkit following the instructions here: https://my.openbb.co/app/sdk/installation\u001b[0m\n",
       "\n"
      ]
     },
     "metadata": {},
     "output_type": "display_data"
    },
    {
     "data": {
      "text/html": [
       "<pre style=\"white-space:pre;overflow-x:auto;line-height:normal;font-family:Menlo,'DejaVu Sans Mono',consolas,'Courier New',monospace\"><span style=\"color: #808000; text-decoration-color: #808000\">Portfolio Optimization Toolkit is disabled. To use the Optimization features please install the toolkit following the instructions here: https://my.openbb.co/app/sdk/installation</span>\n",
       "\n",
       "</pre>\n"
      ],
      "text/plain": [
       "\u001b[33mPortfolio Optimization Toolkit is disabled. To use the Optimization features please install the toolkit following the instructions here: https://my.openbb.co/app/sdk/installation\u001b[0m\n",
       "\n"
      ]
     },
     "metadata": {},
     "output_type": "display_data"
    },
    {
     "name": "stderr",
     "output_type": "stream",
     "text": [
      "Logging configuration finished                                                  \n",
      "Logging set to \u001b[1m[\u001b[0m\u001b[32m'file'\u001b[0m, \u001b[32m'posthog'\u001b[0m\u001b[1m]\u001b[0m                                              \n",
      "Verbosity set to \u001b[1;36m20\u001b[0m                                                             \n",
      "LOGFORMAT:                                                                      \n",
      "%\u001b[1m(\u001b[0mlevelname\u001b[1m)\u001b[0ms-%\u001b[1m(\u001b[0mappName\u001b[1m)\u001b[0ms-%\u001b[1m(\u001b[0mcommitHash\u001b[1m)\u001b[0ms-%\u001b[1m(\u001b[0mappId\u001b[1m)\u001b[0ms-%\u001b[1m(\u001b[0msessionId\u001b[1m)\u001b[0ms-%\u001b[1m(\u001b[0muserId\u001b[1m)\u001b[0ms-%\u001b[1m(\u001b[0mas\n",
      "ctime\u001b[1m)\u001b[0ms-%\u001b[1m(\u001b[0mname\u001b[1m)\u001b[0ms-%\u001b[1m(\u001b[0mfuncName\u001b[1m)\u001b[0ms-%\u001b[1m(\u001b[0mlineno\u001b[1m)\u001b[0ms-%\u001b[1m(\u001b[0mmessage\u001b[1m)\u001b[0ms                            \n",
      "STARTUP: \u001b[1m{\u001b[0m\u001b[32m\"PREFERENCES\"\u001b[0m: \u001b[1m{\u001b[0m\u001b[32m\"PLOT_BACKEND\"\u001b[0m: null, \u001b[32m\"PLOT_DPI\"\u001b[0m: \u001b[1;36m100\u001b[0m, \u001b[32m\"PLOT_HEIGHT\"\u001b[0m: \n",
      "\u001b[1;36m500\u001b[0m, \u001b[32m\"PLOT_WIDTH\"\u001b[0m: \u001b[1;36m800\u001b[0m, \u001b[32m\"PLOT_HEIGHT_PERCENTAGE\"\u001b[0m: \u001b[1;36m50.0\u001b[0m, \u001b[32m\"PLOT_WIDTH_PERCENTAGE\"\u001b[0m:\n",
      "\u001b[1;36m70.0\u001b[0m, \u001b[32m\"PLOT_OPEN_EXPORT\"\u001b[0m: false, \u001b[32m\"PLOT_ENABLE_PYWRY\"\u001b[0m: true, \u001b[32m\"PLOT_PYWRY_WIDTH\"\u001b[0m: \n",
      "\u001b[1;36m1400\u001b[0m, \u001b[32m\"PLOT_PYWRY_HEIGHT\"\u001b[0m: \u001b[1;36m762\u001b[0m, \u001b[32m\"FILE_OVERWRITE\"\u001b[0m: false, \u001b[32m\"SHOW_VERSION\"\u001b[0m: true,  \n",
      "\u001b[32m\"RETRY_WITH_LOAD\"\u001b[0m: false, \u001b[32m\"USE_TABULATE_DF\"\u001b[0m: true, \u001b[32m\"USE_INTERACTIVE_DF\"\u001b[0m: true,  \n",
      "\u001b[32m\"USE_CLEAR_AFTER_CMD\"\u001b[0m: false, \u001b[32m\"USE_DATETIME\"\u001b[0m: true, \u001b[32m\"USE_PROMPT_TOOLKIT\"\u001b[0m: true, \n",
      "\u001b[32m\"USE_PLOT_AUTOSCALING\"\u001b[0m: false, \u001b[32m\"ENABLE_THOUGHTS_DAY\"\u001b[0m: false,                    \n",
      "\u001b[32m\"ENABLE_QUICK_EXIT\"\u001b[0m: false, \u001b[32m\"OPEN_REPORT_AS_HTML\"\u001b[0m: true,                        \n",
      "\u001b[32m\"ENABLE_EXIT_AUTO_HELP\"\u001b[0m: true, \u001b[32m\"REMEMBER_CONTEXTS\"\u001b[0m: true, \u001b[32m\"ENABLE_RICH_PANEL\"\u001b[0m:  \n",
      "true, \u001b[32m\"ENABLE_CHECK_API\"\u001b[0m: true, \u001b[32m\"TOOLBAR_HINT\"\u001b[0m: true, \u001b[32m\"PREVIOUS_USE\"\u001b[0m: true,     \n",
      "\u001b[32m\"TIMEZONE\"\u001b[0m: \u001b[32m\"America/New_York\"\u001b[0m, \u001b[32m\"FLAIR\"\u001b[0m: \u001b[32m\":bug\"\u001b[0m, \u001b[32m\"USE_LANGUAGE\"\u001b[0m: \u001b[32m\"en\"\u001b[0m,          \n",
      "\u001b[32m\"REQUEST_TIMEOUT\"\u001b[0m: \u001b[1;36m5\u001b[0m, \u001b[32m\"MONITOR\"\u001b[0m: \u001b[1;36m0\u001b[0m, \u001b[32m\"MPL_STYLE\"\u001b[0m: \u001b[32m\"dark\"\u001b[0m, \u001b[32m\"PMF_STYLE\"\u001b[0m: \u001b[32m\"dark\"\u001b[0m,   \n",
      "\u001b[32m\"RICH_STYLE\"\u001b[0m: \u001b[32m\"dark\"\u001b[0m, \u001b[32m\"CHART_STYLE\"\u001b[0m: \u001b[32m\"dark\"\u001b[0m, \u001b[32m\"TABLE_STYLE\"\u001b[0m: \u001b[32m\"dark\"\u001b[0m,             \n",
      "\u001b[32m\"GUESS_EASTER_EGG_FILE\"\u001b[0m:                                                        \n",
      "\u001b[32m\"/Users/lnshuti/Desktop/portfolio/meta-labelling-architecture/guess_game.json\"\u001b[0m, \n",
      "\u001b[32m\"USER_DATA_SOURCES_FILE\"\u001b[0m: \u001b[32m\"/Users/lnshuti/OpenBBUserData/sources/sources.json\"\u001b[0m\u001b[1m}\u001b[0m,\n",
      "\u001b[32m\"KEYS\"\u001b[0m: \u001b[1m{\u001b[0m\u001b[32m\"API_BINANCE_KEY\"\u001b[0m: \u001b[32m\"not_defined\"\u001b[0m, \u001b[32m\"API_BINANCE_SECRET\"\u001b[0m: \u001b[32m\"not_defined\"\u001b[0m, \n",
      "\u001b[32m\"API_BITQUERY_KEY\"\u001b[0m: \u001b[32m\"not_defined\"\u001b[0m, \u001b[32m\"API_BIZTOC_TOKEN\"\u001b[0m: \u001b[32m\"not_defined\"\u001b[0m,           \n",
      "\u001b[32m\"API_CMC_KEY\"\u001b[0m: \u001b[32m\"not_defined\"\u001b[0m, \u001b[32m\"API_COINBASE_KEY\"\u001b[0m: \u001b[32m\"not_defined\"\u001b[0m,                \n",
      "\u001b[32m\"API_COINBASE_PASS_PHRASE\"\u001b[0m: \u001b[32m\"not_defined\"\u001b[0m, \u001b[32m\"API_COINBASE_SECRET\"\u001b[0m: \u001b[32m\"not_defined\"\u001b[0m,\n",
      "\u001b[32m\"API_COINGLASS_KEY\"\u001b[0m: \u001b[32m\"not_defined\"\u001b[0m, \u001b[32m\"API_CRYPTO_PANIC_KEY\"\u001b[0m: \u001b[32m\"not_defined\"\u001b[0m,      \n",
      "\u001b[32m\"API_DAPPRADAR_KEY\"\u001b[0m: \u001b[32m\"not_defined\"\u001b[0m, \u001b[32m\"API_DATABENTO_KEY\"\u001b[0m: \u001b[32m\"not_defined\"\u001b[0m,         \n",
      "\u001b[32m\"API_EODHD_KEY\"\u001b[0m: \u001b[32m\"not_defined\"\u001b[0m, \u001b[32m\"API_ETHPLORER_KEY\"\u001b[0m: \u001b[32m\"not_defined\"\u001b[0m,             \n",
      "\u001b[32m\"API_FINNHUB_KEY\"\u001b[0m: \u001b[32m\"not_defined\"\u001b[0m, \u001b[32m\"API_FRED_KEY\"\u001b[0m: \u001b[32m\"defined\"\u001b[0m, \u001b[32m\"API_GITHUB_KEY\"\u001b[0m:  \n",
      "\u001b[32m\"not_defined\"\u001b[0m, \u001b[32m\"API_GLASSNODE_KEY\"\u001b[0m: \u001b[32m\"not_defined\"\u001b[0m, \u001b[32m\"API_INTRINIO_KEY\"\u001b[0m:          \n",
      "\u001b[32m\"not_defined\"\u001b[0m, \u001b[32m\"API_KEY_ALPHAVANTAGE\"\u001b[0m: \u001b[32m\"not_defined\"\u001b[0m,                           \n",
      "\u001b[32m\"API_KEY_FINANCIALMODELINGPREP\"\u001b[0m: \u001b[32m\"not_defined\"\u001b[0m, \u001b[32m\"API_KEY_QUANDL\"\u001b[0m: \u001b[32m\"not_defined\"\u001b[0m,\n",
      "\u001b[32m\"API_MESSARI_KEY\"\u001b[0m: \u001b[32m\"not_defined\"\u001b[0m, \u001b[32m\"API_NEWS_TOKEN\"\u001b[0m: \u001b[32m\"not_defined\"\u001b[0m,              \n",
      "\u001b[32m\"API_OPENAI_KEY\"\u001b[0m: \u001b[32m\"not_defined\"\u001b[0m, \u001b[32m\"API_POLYGON_KEY\"\u001b[0m: \u001b[32m\"defined\"\u001b[0m,                  \n",
      "\u001b[32m\"API_REDDIT_CLIENT_ID\"\u001b[0m: \u001b[32m\"not_defined\"\u001b[0m, \u001b[32m\"API_REDDIT_CLIENT_SECRET\"\u001b[0m:              \n",
      "\u001b[32m\"not_defined\"\u001b[0m, \u001b[32m\"API_REDDIT_PASSWORD\"\u001b[0m: \u001b[32m\"not_defined\"\u001b[0m, \u001b[32m\"API_REDDIT_USERNAME\"\u001b[0m:     \n",
      "\u001b[32m\"not_defined\"\u001b[0m, \u001b[32m\"API_REDDIT_USER_AGENT\"\u001b[0m: \u001b[32m\"not_defined\"\u001b[0m, \u001b[32m\"API_SANTIMENT_KEY\"\u001b[0m:     \n",
      "\u001b[32m\"not_defined\"\u001b[0m, \u001b[32m\"API_SHROOM_KEY\"\u001b[0m: \u001b[32m\"not_defined\"\u001b[0m, \u001b[32m\"API_SMARTSTAKE_KEY\"\u001b[0m:           \n",
      "\u001b[32m\"not_defined\"\u001b[0m, \u001b[32m\"API_SMARTSTAKE_TOKEN\"\u001b[0m: \u001b[32m\"not_defined\"\u001b[0m, \u001b[32m\"API_STOCKSERA_KEY\"\u001b[0m:      \n",
      "\u001b[32m\"not_defined\"\u001b[0m, \u001b[32m\"API_TOKEN_TERMINAL_KEY\"\u001b[0m: \u001b[32m\"not_defined\"\u001b[0m, \u001b[32m\"API_TRADIER_TOKEN\"\u001b[0m:    \n",
      "\u001b[32m\"not_defined\"\u001b[0m, \u001b[32m\"API_TWITTER_BEARER_TOKEN\"\u001b[0m: \u001b[32m\"not_defined\"\u001b[0m, \u001b[32m\"API_TWITTER_KEY\"\u001b[0m:    \n",
      "\u001b[32m\"not_defined\"\u001b[0m, \u001b[32m\"API_TWITTER_SECRET_KEY\"\u001b[0m: \u001b[32m\"not_defined\"\u001b[0m, \u001b[32m\"API_ULTIMA_KEY\"\u001b[0m:       \n",
      "\u001b[32m\"not_defined\"\u001b[0m, \u001b[32m\"API_WHALE_ALERT_KEY\"\u001b[0m: \u001b[32m\"not_defined\"\u001b[0m\u001b[1m}\u001b[0m, \u001b[32m\"SYSTEM\"\u001b[0m: \u001b[1m{\u001b[0m\u001b[32m\"OS\"\u001b[0m: \u001b[32m\"Darwin\"\u001b[0m,\n",
      "\u001b[32m\"PYTHON_VERSION\"\u001b[0m: \u001b[32m\"3.10.12\"\u001b[0m, \u001b[32m\"PLATFORM\"\u001b[0m: \u001b[32m\"macOS-13.5.2-arm64-arm-64bit\"\u001b[0m,        \n",
      "\u001b[32m\"VERSION\"\u001b[0m: \u001b[32m\"3.2.0\"\u001b[0m, \u001b[32m\"LOGGING_APP_ID\"\u001b[0m: \u001b[32m\"2c3c4390-1c8d-462f-ac08-343b481e2b62\"\u001b[0m,   \n",
      "\u001b[32m\"LOGGING_APP_NAME\"\u001b[0m: \u001b[32m\"gst_packaged_pypi\"\u001b[0m, \u001b[32m\"LOGGING_COMMIT_HASH\"\u001b[0m:                 \n",
      "\u001b[32m\"unknown-commit\"\u001b[0m, \u001b[32m\"LOGGING_BRANCH\"\u001b[0m: \u001b[32m\"unknown-branch\"\u001b[0m, \u001b[32m\"LOGGING_FREQUENCY\"\u001b[0m: \u001b[32m\"H\"\u001b[0m, \n",
      "\u001b[32m\"LOGGING_HANDLERS\"\u001b[0m: \u001b[1m[\u001b[0m\u001b[32m\"file\"\u001b[0m, \u001b[32m\"posthog\"\u001b[0m\u001b[1m]\u001b[0m, \u001b[32m\"LOGGING_ROLLING_CLOCK\"\u001b[0m: false,        \n",
      "\u001b[32m\"LOGGING_VERBOSITY\"\u001b[0m: \u001b[1;36m20\u001b[0m, \u001b[32m\"LOGGING_SUB_APP\"\u001b[0m: \u001b[32m\"sdk\"\u001b[0m, \u001b[32m\"LOGGING_SUPPRESS\"\u001b[0m: false,   \n",
      "\u001b[32m\"LOGGING_SEND_TO_S3\"\u001b[0m: false, \u001b[32m\"LOG_COLLECT\"\u001b[0m: true, \u001b[32m\"DISABLE_STREAMLIT_WARNING\"\u001b[0m:  \n",
      "false, \u001b[32m\"DISABLE_FORECASTING_WARNING\"\u001b[0m: true, \u001b[32m\"DISABLE_OPTIMIZATION_WARNING\"\u001b[0m:     \n",
      "true, \u001b[32m\"TEST_MODE\"\u001b[0m: false, \u001b[32m\"DEBUG_MODE\"\u001b[0m: false, \u001b[32m\"ENABLE_AUTHENTICATION\"\u001b[0m: true,   \n",
      "\u001b[32m\"\u001b[0m\u001b[1;33mHEAD\u001b[0m\u001b[32mLESS\"\u001b[0m: false\u001b[1m}\u001b[0m\u001b[1m}\u001b[0m                                                             \n",
      "START                                                                           \n",
      "END                                                                             \n"
     ]
    }
   ],
   "source": [
    "import numpy as np\n",
    "import pandas as pd\n",
    "from openbb_terminal.sdk import openbb\n",
    "from statsforecast.models import AutoARIMA\n",
    "import requests\n",
    "import re\n",
    "import altair as alt\n",
    "from scipy.linalg import svd\n",
    "\n",
    "from statsmodels.graphics.tsaplots import plot_acf\n",
    "from statsmodels.tsa.stattools import acf\n",
    "%matplotlib inline\n",
    "\n",
    "# Turn off warnings and messages \n",
    "import warnings\n",
    "warnings.filterwarnings('ignore')"
   ]
  },
  {
   "cell_type": "code",
   "execution_count": null,
   "metadata": {},
   "outputs": [],
   "source": [
    "# Show trending coins\n",
    "openbb.crypto.disc.trending()"
   ]
  },
  {
   "cell_type": "code",
   "execution_count": null,
   "metadata": {},
   "outputs": [],
   "source": [
    "trades_ethusdt = openbb.crypto.dd.trades(exchange_id = 'coinbaseprime', symbol = 'ETH', to_symbol = 'USDT')\n",
    "\n",
    "trades_ethusdt.tail(5)"
   ]
  },
  {
   "cell_type": "code",
   "execution_count": null,
   "metadata": {},
   "outputs": [],
   "source": [
    "btc_df = openbb.crypto.load(symbol=\"btc\",to_symbol=\"usd\",start_date=\"2019-01-01\",source=\"YahooFinance\")\n",
    "btc_df.tail(5)"
   ]
  },
  {
   "cell_type": "code",
   "execution_count": null,
   "metadata": {},
   "outputs": [],
   "source": [
    "# Plot the Adj Close price overtime for BTC\n",
    "import matplotlib.pyplot as plt\n",
    "\n",
    "btc_df['Adj Close'].plot(figsize=(10, 7), color='r')\n",
    "plt.ylabel('BTC Price')\n",
    "plt.title('BTC Price Over Time')"
   ]
  },
  {
   "cell_type": "code",
   "execution_count": null,
   "metadata": {},
   "outputs": [],
   "source": []
  },
  {
   "cell_type": "markdown",
   "metadata": {},
   "source": [
    "### References \n",
    "Sean Taylor. Gas Price Forecast. https://github.com/seanjtaylor/gas-price-forecast"
   ]
  }
 ],
 "metadata": {
  "kernelspec": {
   "display_name": "meta-labell",
   "language": "python",
   "name": "python3"
  },
  "language_info": {
   "codemirror_mode": {
    "name": "ipython",
    "version": 3
   },
   "file_extension": ".py",
   "mimetype": "text/x-python",
   "name": "python",
   "nbconvert_exporter": "python",
   "pygments_lexer": "ipython3",
   "version": "3.10.12"
  },
  "orig_nbformat": 4
 },
 "nbformat": 4,
 "nbformat_minor": 2
}
