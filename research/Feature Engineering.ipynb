{
 "cells": [
  {
   "cell_type": "code",
   "execution_count": 1,
   "id": "ba47fb24",
   "metadata": {},
   "outputs": [
    {
     "data": {
      "text/html": [
       "<pre style=\"white-space:pre;overflow-x:auto;line-height:normal;font-family:Menlo,'DejaVu Sans Mono',consolas,'Courier New',monospace\"><span style=\"color: #808000; text-decoration-color: #808000\">Forecasting Toolkit is disabled. To use the Forecasting features please install the toolkit following the instructions here: https://my.openbb.co/app/sdk/installation</span>\n",
       "\n",
       "</pre>\n"
      ],
      "text/plain": [
       "\u001b[33mForecasting Toolkit is disabled. To use the Forecasting features please install the toolkit following the instructions here: https://my.openbb.co/app/sdk/installation\u001b[0m\n",
       "\n"
      ]
     },
     "metadata": {},
     "output_type": "display_data"
    },
    {
     "data": {
      "text/html": [
       "<pre style=\"white-space:pre;overflow-x:auto;line-height:normal;font-family:Menlo,'DejaVu Sans Mono',consolas,'Courier New',monospace\"><span style=\"color: #808000; text-decoration-color: #808000\">Portfolio Optimization Toolkit is disabled. To use the Optimization features please install the toolkit following the instructions here: https://my.openbb.co/app/sdk/installation</span>\n",
       "\n",
       "</pre>\n"
      ],
      "text/plain": [
       "\u001b[33mPortfolio Optimization Toolkit is disabled. To use the Optimization features please install the toolkit following the instructions here: https://my.openbb.co/app/sdk/installation\u001b[0m\n",
       "\n"
      ]
     },
     "metadata": {},
     "output_type": "display_data"
    }
   ],
   "source": [
    "import numpy as np\n",
    "import pandas as pd\n",
    "from openbb_terminal.sdk import openbb\n",
    "#from statsforecast.models import AutoARIMA\n",
    "import requests\n",
    "import re\n",
    "\n",
    "import altair as a\n",
    "from scipy.linalg import svd\n",
    "#import lineapy\n",
    "\n",
    "import joblib  #for saving models and preprocessing objects\n",
    "from statsmodels.graphics.tsaplots import plot_acf\n",
    "from statsmodels.tsa.stattools import acf\n",
    "%matplotlib inline\n",
    "\n",
    "# Turn off warnings and messages \n",
    "import warnings\n",
    "warnings.filterwarnings('ignore')\n"
   ]
  },
  {
   "cell_type": "code",
   "execution_count": 2,
   "id": "65a8bbb4",
   "metadata": {},
   "outputs": [
    {
     "data": {
      "text/html": [
       "<div>\n",
       "<style scoped>\n",
       "    .dataframe tbody tr th:only-of-type {\n",
       "        vertical-align: middle;\n",
       "    }\n",
       "\n",
       "    .dataframe tbody tr th {\n",
       "        vertical-align: top;\n",
       "    }\n",
       "\n",
       "    .dataframe thead th {\n",
       "        text-align: right;\n",
       "    }\n",
       "</style>\n",
       "<table border=\"1\" class=\"dataframe\">\n",
       "  <thead>\n",
       "    <tr style=\"text-align: right;\">\n",
       "      <th></th>\n",
       "      <th>Open</th>\n",
       "      <th>High</th>\n",
       "      <th>Low</th>\n",
       "      <th>Close</th>\n",
       "      <th>Adj Close</th>\n",
       "      <th>Volume</th>\n",
       "      <th>coin</th>\n",
       "    </tr>\n",
       "    <tr>\n",
       "      <th>date</th>\n",
       "      <th></th>\n",
       "      <th></th>\n",
       "      <th></th>\n",
       "      <th></th>\n",
       "      <th></th>\n",
       "      <th></th>\n",
       "      <th></th>\n",
       "    </tr>\n",
       "  </thead>\n",
       "  <tbody>\n",
       "    <tr>\n",
       "      <th>2023-10-20</th>\n",
       "      <td>1567.570923</td>\n",
       "      <td>1628.609009</td>\n",
       "      <td>1562.302856</td>\n",
       "      <td>1604.666870</td>\n",
       "      <td>1604.666870</td>\n",
       "      <td>6747486127</td>\n",
       "      <td>eth</td>\n",
       "    </tr>\n",
       "    <tr>\n",
       "      <th>2023-10-21</th>\n",
       "      <td>1604.822266</td>\n",
       "      <td>1641.241821</td>\n",
       "      <td>1593.447998</td>\n",
       "      <td>1629.304443</td>\n",
       "      <td>1629.304443</td>\n",
       "      <td>4212179634</td>\n",
       "      <td>eth</td>\n",
       "    </tr>\n",
       "    <tr>\n",
       "      <th>2023-10-22</th>\n",
       "      <td>1629.297729</td>\n",
       "      <td>1667.666626</td>\n",
       "      <td>1623.984741</td>\n",
       "      <td>1663.429932</td>\n",
       "      <td>1663.429932</td>\n",
       "      <td>5248406817</td>\n",
       "      <td>eth</td>\n",
       "    </tr>\n",
       "    <tr>\n",
       "      <th>2023-10-23</th>\n",
       "      <td>1674.849243</td>\n",
       "      <td>1794.070435</td>\n",
       "      <td>1663.447998</td>\n",
       "      <td>1765.382690</td>\n",
       "      <td>1765.382690</td>\n",
       "      <td>14362295879</td>\n",
       "      <td>eth</td>\n",
       "    </tr>\n",
       "    <tr>\n",
       "      <th>2023-10-24</th>\n",
       "      <td>1766.014648</td>\n",
       "      <td>1852.684448</td>\n",
       "      <td>1758.690063</td>\n",
       "      <td>1784.437500</td>\n",
       "      <td>1784.437500</td>\n",
       "      <td>15888690475</td>\n",
       "      <td>eth</td>\n",
       "    </tr>\n",
       "  </tbody>\n",
       "</table>\n",
       "</div>"
      ],
      "text/plain": [
       "                   Open         High          Low        Close    Adj Close  \\\n",
       "date                                                                          \n",
       "2023-10-20  1567.570923  1628.609009  1562.302856  1604.666870  1604.666870   \n",
       "2023-10-21  1604.822266  1641.241821  1593.447998  1629.304443  1629.304443   \n",
       "2023-10-22  1629.297729  1667.666626  1623.984741  1663.429932  1663.429932   \n",
       "2023-10-23  1674.849243  1794.070435  1663.447998  1765.382690  1765.382690   \n",
       "2023-10-24  1766.014648  1852.684448  1758.690063  1784.437500  1784.437500   \n",
       "\n",
       "                 Volume coin  \n",
       "date                          \n",
       "2023-10-20   6747486127  eth  \n",
       "2023-10-21   4212179634  eth  \n",
       "2023-10-22   5248406817  eth  \n",
       "2023-10-23  14362295879  eth  \n",
       "2023-10-24  15888690475  eth  "
      ]
     },
     "execution_count": 2,
     "metadata": {},
     "output_type": "execute_result"
    }
   ],
   "source": [
    "btc_df = openbb.crypto.load(symbol=\"btc\",to_symbol=\"usd\",start_date=\"2019-01-01\",source=\"YahooFinance\")\n",
    "eth_df = openbb.crypto.load(symbol=\"eth\",to_symbol=\"usd\",start_date=\"2019-01-01\",source=\"YahooFinance\")\n",
    "xrp_df= openbb.crypto.load(symbol='xrp', to_symbol='usd', start_date='2019-01-01', source=\"YahooFinance\")\n",
    "# Combine btc and eth dataframes and save under /data. Append current date to the filename. \n",
    "# Add a new column identifying which coin the row belongs to. \n",
    "btc_df['coin'] = 'btc'\n",
    "eth_df['coin'] = 'eth'\n",
    "xrp_df['coin']= 'xrp'\n",
    "btc_eth_df = pd.concat([btc_df,eth_df],axis=0)\n",
    "\n",
    "btc_eth_df.tail(5)"
   ]
  },
  {
   "cell_type": "code",
   "execution_count": null,
   "id": "b4d8a82d",
   "metadata": {},
   "outputs": [],
   "source": [
    "btc= btc_eth_df[btc_eth_df.coin == 'btc']\n",
    "btc.tail()"
   ]
  },
  {
   "cell_type": "code",
   "execution_count": null,
   "id": "47ad97da",
   "metadata": {},
   "outputs": [],
   "source": [
    "btc.head()\n",
    "btc = btc.reset_index()"
   ]
  },
  {
   "cell_type": "code",
   "execution_count": null,
   "id": "ac6be0ef",
   "metadata": {},
   "outputs": [],
   "source": [
    "btc['date'] = btc['date'].astype(str)  # Convert the column to a string\n",
    "splitted= btc.date.str.split('-', expand=True)\n",
    "btc['year']= splitted[0].astype('int')\n",
    "btc['month']= splitted[1].astype('int')\n",
    "btc['day']= splitted[2].astype('int')\n",
    "btc.head()"
   ]
  },
  {
   "cell_type": "code",
   "execution_count": null,
   "id": "56468399",
   "metadata": {},
   "outputs": [],
   "source": [
    "btc['is_quarter_end']= np.where(btc['month']%3==0,1,0)\n",
    "btc.tail()"
   ]
  },
  {
   "cell_type": "code",
   "execution_count": null,
   "id": "e96f00c8",
   "metadata": {},
   "outputs": [],
   "source": [
    "btc['open-close']= btc['Open']- btc['Close']\n",
    "btc['low-high']= btc['Low']- btc['High']\n",
    "btc['target']= np.where(btc['Close'].shift(-1) > btc.Close, 1, 0)\n",
    "btc.tail()"
   ]
  },
  {
   "cell_type": "code",
   "execution_count": null,
   "id": "c4663b26",
   "metadata": {},
   "outputs": [],
   "source": [
    "#!pip install xgboost\n",
    "from sklearn.model_selection import train_test_split\n",
    "from sklearn.preprocessing import StandardScaler\n",
    "from sklearn.linear_model import LogisticRegression\n",
    "from sklearn.svm import SVC\n",
    "from xgboost import XGBClassifier\n",
    "from sklearn import metrics \n",
    "import warnings \n",
    "warnings.filterwarnings('ignore')\n",
    "features= btc[['open-close', 'low-high', 'is_quarter_end']]\n",
    "target= btc['target']\n",
    "\n",
    "scaler= StandardScaler()\n",
    "features= scaler.fit_transform(features)\n",
    "\n",
    "X_train, X_valid, Y_train, Y_valid= train_test_split(features, target, test_size=0.1, random_state=202)\n",
    "print(X_train.shape, X_valid.shape)"
   ]
  },
  {
   "cell_type": "code",
   "execution_count": null,
   "id": "88e83d09",
   "metadata": {},
   "outputs": [],
   "source": [
    "models= [LogisticRegression(), SVC(kernel='poly', probability=True), XGBClassifier()]\n",
    "\n",
    "for i in range(3):\n",
    "    models[i].fit(X_train, Y_train)\n",
    "    \n",
    "    print(f'{models[i]} :')\n",
    "    print('Training Acc: ', metrics.roc_auc_score(Y_train, models[i].predict_proba(X_train)[:,1]))\n",
    "    print('Test Acc :', metrics.roc_auc_score(Y_valid, models[i].predict_proba(X_valid)[:,1]))\n",
    "    print()"
   ]
  },
  {
   "cell_type": "code",
   "execution_count": null,
   "id": "8794da33",
   "metadata": {},
   "outputs": [],
   "source": [
    "# Plot confusion matrix\n",
    "from sklearn.metrics import confusion_matrix\n",
    "import matplotlib.pyplot as plt\n",
    "import seaborn as sns\n",
    "\n",
    "for i in range(3):\n",
    "    cm = confusion_matrix(Y_valid, models[i].predict(X_valid))\n",
    "    plt.figure(figsize=(5,5))\n",
    "    plt.title(f'{models[i]}')\n",
    "    sns.heatmap(cm, annot=True, fmt='d', cmap='Blues')\n",
    "    plt.xlabel('Predicted')\n",
    "    plt.ylabel('Actual')\n",
    "    plt.show()"
   ]
  },
  {
   "cell_type": "code",
   "execution_count": null,
   "id": "e82ee4c4",
   "metadata": {},
   "outputs": [],
   "source": [
    "# import matplotlib.pyplot as plt\n",
    "# metrics.ConfusionMatrixDisplay(models[0], X_valid, Y_valid)\n",
    "# plt.show()"
   ]
  },
  {
   "cell_type": "code",
   "execution_count": null,
   "id": "48432cd6",
   "metadata": {},
   "outputs": [],
   "source": [
    "# Define the time period for RSI calculation (e.g., 14 days)\n",
    "period = 14\n",
    "\n",
    "# Calculate daily price changes\n",
    "btc['Price Change'] = btc['Close'].diff()\n",
    "\n",
    "# Separate gains (positive changes) and losses (negative changes)\n",
    "btc['Gain'] = btc['Price Change'].apply(lambda x: x if x > 0 else 0)\n",
    "btc['Loss'] = btc['Price Change'].apply(lambda x: abs(x) if x < 0 else 0)\n",
    "\n",
    "# Calculate average gains and average losses over the specified period\n",
    "btc['Avg Gain'] = btc['Gain'].rolling(window=period).mean()\n",
    "btc['Avg Loss'] = btc['Loss'].rolling(window=period).mean()\n",
    "\n",
    "# Calculate RS (Relative Strength)\n",
    "btc['RS'] = btc['Avg Gain'] / btc['Avg Loss']\n",
    "\n",
    "# Calculate RSI\n",
    "btc['RSI'] = 100 - (100 / (1 + btc['RS']))\n",
    "\n",
    "# Drop rows with missing values (due to the rolling averages)\n",
    "btc = btc.dropna()\n",
    "\n",
    "# Save the updated dataset with RSI values\n",
    "btc.to_csv('updated_dataset_with_RSI.csv', index=False)\n"
   ]
  },
  {
   "cell_type": "code",
   "execution_count": null,
   "id": "70123466",
   "metadata": {},
   "outputs": [],
   "source": [
    "import pandas as pd\n",
    "import numpy as np\n",
    "\n",
    "\n",
    "# Sort the DataFrame by date (if it's not already sorted)\n",
    "btc.sort_values(by='date', inplace=True)\n",
    "\n",
    "# Calculate Simple Moving Average (SMA)\n",
    "sma_period = 3  # Adjust as needed\n",
    "btc['SMA'] = btc['Close'].rolling(window=sma_period).mean()\n",
    "\n",
    "# Calculate Relative Strength Index (RSI)\n",
    "rsi_period = 14  # Adjust as needed\n",
    "delta = btc['Close'].diff()\n",
    "gain = delta.where(delta > 0, 0)\n",
    "loss = -delta.where(delta < 0, 0)\n",
    "avg_gain = gain.rolling(window=rsi_period).mean()\n",
    "avg_loss = loss.rolling(window=rsi_period).mean()\n",
    "rs = avg_gain / avg_loss\n",
    "btc['RSI'] = 100 - (100 / (1 + rs))\n",
    "\n",
    "# Calculate Moving Average Convergence Divergence (MACD)\n",
    "macd_fast_period = 12  # Adjust as needed\n",
    "macd_slow_period = 26  # Adjust as needed\n",
    "signal_period = 9  # Adjust as needed\n",
    "ema_fast = btc['Close'].ewm(span=macd_fast_period).mean()\n",
    "ema_slow = btc['Close'].ewm(span=macd_slow_period).mean()\n",
    "btc['MACD'] = ema_fast - ema_slow\n",
    "btc['Signal'] = btc['MACD'].ewm(span=signal_period).mean()\n",
    "\n",
    "# Calculate Bollinger Bands\n",
    "bb_period = 20  # Adjust as needed\n",
    "btc['Middle_Band'] = btc['Close'].rolling(window=bb_period).mean()\n",
    "btc['Upper_Band'] = btc['Middle_Band'] + (2 * btc['Close'].rolling(window=bb_period).std())\n",
    "btc['Lower_Band'] = btc['Middle_Band'] - (2 * btc['Close'].rolling(window=bb_period).std())\n",
    "\n",
    "# Calculate Stochastic Oscillator\n",
    "k_period = 14  # Adjust as needed\n",
    "d_period = 3  # Adjust as needed\n",
    "low_min = btc['Low'].rolling(window=k_period).min()\n",
    "high_max = btc['High'].rolling(window=k_period).max()\n",
    "btc['%K'] = ((btc['Close'] - low_min) / (high_max - low_min)) * 100\n",
    "btc['%D'] = btc['%K'].rolling(window=d_period).mean()\n",
    "\n",
    "# Calculate Average True Range (ATR)\n",
    "atr_period = 14  # Adjust as needed\n",
    "tr = np.maximum(np.maximum(btc['High'] - btc['Low'], abs(btc['High'] - btc['Close'].shift(1))),\n",
    "                abs(btc['Low'] - btc['Close'].shift(1)))\n",
    "btc['ATR'] = tr.rolling(window=atr_period).mean()\n",
    "\n",
    "# Print or further analyze the DataFrame with manually calculated technical indicators\n",
    "btc"
   ]
  },
  {
   "cell_type": "code",
   "execution_count": null,
   "id": "b7c6019d",
   "metadata": {},
   "outputs": [],
   "source": [
    "btc_supply_data=openbb.crypto.onchain.btc_supply()\n",
    "btc_supply_data"
   ]
  },
  {
   "cell_type": "code",
   "execution_count": null,
   "id": "0b3cd22e",
   "metadata": {},
   "outputs": [],
   "source": [
    "\n",
    "# Rename the 'x' column to 'date' and 'y' column to 'btc_supply'\n",
    "btc_supply_data.rename(columns={'x': 'date', 'y': 'btc_supply'}, inplace=True)\n",
    "\n",
    "# Convert the 'date' column to a datetime data type\n",
    "btc_supply_data['date'] = pd.to_datetime(btc_supply_data['date'])\n",
    "\n",
    "# Extract only the date part from the 'date' column\n",
    "btc_supply_data['date'] = btc_supply_data['date'].dt.date\n",
    "\n",
    "# Now your DataFrame should have 'date' as the date without time and 'btc_supply'\n",
    "btc_supply_data.head()\n"
   ]
  },
  {
   "cell_type": "code",
   "execution_count": null,
   "id": "5d4046b1",
   "metadata": {},
   "outputs": [],
   "source": [
    "# Convert 'date' columns to datetime objects with the same format\n",
    "btc['date'] = pd.to_datetime(btc['date'])\n",
    "btc_supply_data['date'] = pd.to_datetime(btc_supply_data['date'])\n",
    "\n",
    "# Extract only the date part (remove time)\n",
    "btc['date'] = btc['date'].dt.date\n",
    "btc_supply_data['date'] = btc_supply_data['date'].dt.date\n",
    "\n",
    "# Now, try the merge again\n",
    "merged_data = btc.merge(btc_supply_data, on='date', how='left', suffixes=('_left', '_right'))\n",
    "merged_data"
   ]
  },
  {
   "cell_type": "code",
   "execution_count": null,
   "id": "3aed22bb",
   "metadata": {},
   "outputs": [],
   "source": [
    "x= openbb.crypto.onchain.btc_transac()\n",
    "x.rename(columns={'x': 'date', 'y': 'confirmed_transactions'}, inplace=True)\n",
    "x['date'] = pd.to_datetime(x['date'])\n",
    "x['date'] = x['date'].dt.date"
   ]
  },
  {
   "cell_type": "code",
   "execution_count": null,
   "id": "6cb6ea6c",
   "metadata": {},
   "outputs": [],
   "source": [
    "# Now, try the merge again\n",
    "merged_data = merged_data.merge(x, on='date', how='left', suffixes=('_left', '_right'))\n",
    "merged_data"
   ]
  },
  {
   "cell_type": "code",
   "execution_count": null,
   "id": "d4991b5d",
   "metadata": {},
   "outputs": [],
   "source": [
    "help(openbb.economy.treasury_chart)"
   ]
  },
  {
   "cell_type": "code",
   "execution_count": null,
   "id": "2d2ed96b",
   "metadata": {},
   "outputs": [],
   "source": [
    "# trust= openbb.economy.trust(countries=['united_states'])\n",
    "# trust.rename(columns={'united_states': 'trust_in_us_gov'}, inplace=True)\n",
    "# trust.reset_index(inplace=True)\n",
    "# Convert the 'time' column to a datetime object and extract the year\n",
    "# trust['year'] = pd.to_datetime(trust['TIME']).dt.year\n",
    "# trust.tail()"
   ]
  },
  {
   "cell_type": "code",
   "execution_count": null,
   "id": "b733853b",
   "metadata": {},
   "outputs": [],
   "source": [
    "# # Now, try the merge again\n",
    "# merged_data = merged_data.merge(trust, on='year', how='left', suffixes=('_left', '_right'))\n",
    "# merged_data"
   ]
  },
  {
   "cell_type": "code",
   "execution_count": null,
   "id": "f06d1930",
   "metadata": {},
   "outputs": [],
   "source": [
    "merged_data.columns"
   ]
  },
  {
   "cell_type": "code",
   "execution_count": null,
   "id": "293ebdee",
   "metadata": {},
   "outputs": [],
   "source": [
    "treasury= openbb.economy.treasury()\n",
    "treasury.tail()"
   ]
  },
  {
   "cell_type": "code",
   "execution_count": null,
   "id": "5eaf9f4b",
   "metadata": {},
   "outputs": [],
   "source": [
    "treasury= openbb.economy.treasury()\n",
    "treasury.reset_index(inplace=True)\n",
    "import pandas as pd\n",
    "\n",
    "# Assuming 'date_column' is the name of the column you want to convert\n",
    "merged_data['date'] = pd.to_datetime(merged_data['date'])\n",
    "\n",
    "# Now, 'date_column' is converted to a datetime dtype\n",
    "merged_data = merged_data.merge(treasury, on='date', how='left', suffixes=('_left', '_right'))\n",
    "merged_data"
   ]
  },
  {
   "cell_type": "code",
   "execution_count": null,
   "id": "56a7365a",
   "metadata": {},
   "outputs": [],
   "source": [
    "# Convert date to datetime\n",
    "treasury['date'] = pd.to_datetime(treasury['date'])\n",
    "treasury['date'] = treasury['date'].dt.date\n",
    "treasury.head()\n",
    "\n",
    "numeric_cols = ['1m', '3m', '6m', '1y', '2y', '3y', '5y', '7y', '10y', '20y', '30y']\n",
    "\n",
    "# Convert all columns except date to numeric from the treasury dataframe\n",
    "treasury[numeric_cols] = treasury[numeric_cols].apply(pd.to_numeric, errors='coerce')\n",
    "treasury.dtypes\n",
    "\n",
    "# Convert all columns except date to numeric from the treasury dataframe\n",
    "\n",
    "# treasury = treasury.apply(pd.to_numeric, errors='coerce')\n",
    "# treasury.head()"
   ]
  },
  {
   "cell_type": "code",
   "execution_count": null,
   "id": "1e30280c",
   "metadata": {},
   "outputs": [],
   "source": [
    "# Visualize treasury yields over time. Only use the treasury dataset  \n",
    "import matplotlib.pyplot as plt\n",
    "import seaborn as sns\n",
    "\n",
    "# Plot the treasury yields over time\n",
    "plt.figure(figsize=(10, 5))\n",
    "sns.lineplot(x='date', y='10y', data=treasury)\n",
    "plt.title('10 Year Treasury Yield Over Time')\n",
    "plt.xlabel('Date')\n",
    "plt.ylabel('Yield')\n",
    "plt.show()\n"
   ]
  },
  {
   "cell_type": "code",
   "execution_count": null,
   "id": "f5879761",
   "metadata": {},
   "outputs": [],
   "source": [
    "# Plot the 10 year yield versus the 3 and 6 month yields\n",
    "plt.figure(figsize=(10, 5))\n",
    "sns.lineplot(x='date', y='3m', data=treasury, label='3m')\n",
    "sns.lineplot(x='date', y='5y', data=treasury, label='5y')\n",
    "sns.lineplot(x='date', y='1y', data=treasury, label='1y')\n",
    "plt.title('Treasury Yield Curve')\n",
    "plt.xlabel('Date')\n",
    "plt.ylabel('Yield')\n",
    "plt.legend()\n",
    "plt.show()"
   ]
  },
  {
   "cell_type": "code",
   "execution_count": null,
   "id": "0ab416f2",
   "metadata": {},
   "outputs": [],
   "source": [
    "# spending= openbb.economy.spending(countries=['united_states'])\n",
    "# spending.rename(columns={'united_states':'Spending United States'}, inplace=True)\n",
    "# spending.reset_index(inplace=True)\n",
    "# spending['year']= pd.to_datetime(spending['TIME']).dt.year\n",
    "# merged_data = merged_data.merge(spending, on='year',how='left', suffixes=('_left', '_right'))\n",
    "# merged_data.shape"
   ]
  },
  {
   "cell_type": "code",
   "execution_count": null,
   "id": "b3a274db",
   "metadata": {},
   "outputs": [],
   "source": [
    "# spending= openbb.economy.spending(countries=['united_states'], start_date='2019-01-01')"
   ]
  },
  {
   "cell_type": "code",
   "execution_count": null,
   "id": "d34318d7",
   "metadata": {},
   "outputs": [],
   "source": [
    "# Convert the 'date' column to a datetime object and extract the quarter\n",
    "merged_data['date'] = pd.to_datetime(merged_data['date'])\n",
    "merged_data['quarter_year'] = 'Q' + merged_data['date'].dt.quarter.astype(str) + '_' + merged_data['date'].dt.year.astype(str)\n",
    "merged_data.quarter_year.value_counts()"
   ]
  },
  {
   "cell_type": "code",
   "execution_count": null,
   "id": "84d3616f",
   "metadata": {},
   "outputs": [],
   "source": [
    "merged_data.shape"
   ]
  },
  {
   "cell_type": "code",
   "execution_count": null,
   "id": "df79752c",
   "metadata": {},
   "outputs": [],
   "source": [
    "# rgdp= openbb.economy.rgdp(countries=['united_states'])\n",
    "# rgdp.reset_index(inplace=True)\n",
    "# rgdp.rename(columns={'united_states': 'Gross domestic product (GDP) US'}, inplace=True)\n",
    "# # Convert the 'date' column to a datetime object and extract the quarter\n",
    "# rgdp['TIME'] = pd.to_datetime(rgdp['TIME'])\n",
    "# rgdp['quarter_year'] = 'Q' + rgdp['TIME'].dt.quarter.astype(str) + '_' + rgdp['TIME'].dt.year.astype(str)\n",
    "\n",
    "# rgdp.tail(2)"
   ]
  },
  {
   "cell_type": "code",
   "execution_count": null,
   "id": "e8d226b6",
   "metadata": {},
   "outputs": [],
   "source": [
    "# merged_data = merged_data.merge(rgdp, on='quarter_year',how='left', suffixes=('_left', '_right'))\n",
    "# merged_data.shape"
   ]
  },
  {
   "cell_type": "code",
   "execution_count": null,
   "id": "a62fd99a",
   "metadata": {},
   "outputs": [],
   "source": [
    "# revenue= openbb.economy.revenue(countries=['united_states'])\n",
    "# revenue.reset_index(inplace=True)\n",
    "# revenue.rename(columns={'united_states': 'Revenue US'}, inplace=True)\n",
    "# # Convert the 'date' column to a datetime object and extract the quarter\n",
    "# revenue['TIME'] = pd.to_datetime(revenue['TIME'])\n",
    "# revenue['year']= pd.to_datetime(revenue['TIME']).dt.year\n",
    "# revenue.tail()"
   ]
  },
  {
   "cell_type": "code",
   "execution_count": null,
   "id": "60ec0463",
   "metadata": {},
   "outputs": [],
   "source": [
    "# merged_data = merged_data.merge(revenue, on='year',how='left', suffixes=('_left', '_right'))\n",
    "# merged_data.shape"
   ]
  },
  {
   "cell_type": "code",
   "execution_count": null,
   "id": "2ea6c73e",
   "metadata": {},
   "outputs": [],
   "source": [
    "index= openbb.economy.index(indices=['sp500', 'nyse', 'crypto200', 'cboe_vix3m'])\n",
    "index.tail()"
   ]
  },
  {
   "cell_type": "code",
   "execution_count": null,
   "id": "c1aa9a4d",
   "metadata": {},
   "outputs": [],
   "source": [
    "index= openbb.economy.index(indices=['sp500', 'nyse', 'crypto200', 'cboe_vix3m'])\n",
    "index.reset_index(inplace=True)\n",
    "index.rename(columns={'crypto200': 'CMC Crypto 200 Index by Solacti', 'cboe_vix3m': 'CBOE S&P 500 3-Month Volatility Index', 'Date': 'date'}, inplace=True)\n",
    "index"
   ]
  },
  {
   "cell_type": "code",
   "execution_count": null,
   "id": "eadab0c5",
   "metadata": {},
   "outputs": [],
   "source": [
    "merged_data = merged_data.merge(index, on='date',how='left', suffixes=('_left', '_right'))\n",
    "merged_data.shape"
   ]
  },
  {
   "cell_type": "code",
   "execution_count": null,
   "id": "d6735bd6",
   "metadata": {},
   "outputs": [],
   "source": [
    "# balance=openbb.economy.balance(countries= ['united_states'])\n",
    "# balance.reset_index(inplace=True)\n",
    "# balance.rename(columns={'united_states': 'Balance US'}, inplace=True)\n",
    "# balance['TIME'] = pd.to_datetime(balance['TIME'])\n",
    "# balance['year']= pd.to_datetime(balance['TIME']).dt.year\n",
    "# balance.tail(2)"
   ]
  },
  {
   "cell_type": "code",
   "execution_count": null,
   "id": "27cc2de6",
   "metadata": {},
   "outputs": [],
   "source": [
    "# merged_data = merged_data.merge(balance, on='year',how='left', suffixes=('_left', '_right'))\n",
    "# merged_data.shape"
   ]
  },
  {
   "cell_type": "code",
   "execution_count": null,
   "id": "e7224489",
   "metadata": {},
   "outputs": [],
   "source": [
    "# #Inflation measured by consumer price index (CPI)\n",
    "# ccpi= openbb.economy.ccpi(countries=['united_states'])\n",
    "# ccpi.reset_index(inplace=True)\n",
    "# ccpi.rename(columns={'united_states': 'consumer price index(ccpi inflation measure) US'}, inplace=True)\n",
    "# # Convert the 'date' column to a datetime object and extract the quarter\n",
    "# ccpi['TIME'] = pd.to_datetime(ccpi['TIME'])\n",
    "# ccpi['quarter_year'] = 'Q' + ccpi['TIME'].dt.quarter.astype(str) + '_' + ccpi['TIME'].dt.year.astype(str)\n",
    "# ccpi.tail()"
   ]
  },
  {
   "cell_type": "markdown",
   "id": "427ad70f",
   "metadata": {},
   "source": [
    "# Many calls to the openbb.economy model return the following error. \n",
    "Error getting data from OECD: <urlopen error [SSL: UNSAFE_LEGACY_RENEGOTIATION_DISABLED] unsafe legacy renegotiation disabled (_ssl.c:1129)>"
   ]
  },
  {
   "cell_type": "code",
   "execution_count": null,
   "id": "eb430896",
   "metadata": {},
   "outputs": [],
   "source": [
    "ccpi= openbb.economy.ccpi(countries=['united_states'])"
   ]
  },
  {
   "cell_type": "code",
   "execution_count": null,
   "id": "701223c1",
   "metadata": {},
   "outputs": [],
   "source": [
    "# merged_data = merged_data.merge(ccpi, on='quarter_year',how='left', suffixes=('_left', '_right'))\n",
    "# merged_data.shape"
   ]
  },
  {
   "cell_type": "code",
   "execution_count": null,
   "id": "4d395720",
   "metadata": {},
   "outputs": [],
   "source": [
    "# debt= openbb.economy.debt(countries=['united_states'])\n",
    "# debt.reset_index(inplace=True)\n",
    "# debt.rename(columns={'united_states': 'debt-to-GDP ratio US'}, inplace=True)\n",
    "# debt['TIME'] = pd.to_datetime(debt['TIME'])\n",
    "# debt['year']= pd.to_datetime(debt['TIME']).dt.year\n",
    "# debt.tail(5)"
   ]
  },
  {
   "cell_type": "code",
   "execution_count": null,
   "id": "ee47c7fe",
   "metadata": {},
   "outputs": [],
   "source": [
    "# merged_data = merged_data.merge(debt, on='year',how='left', suffixes=('_left', '_right'))\n",
    "# merged_data.shape"
   ]
  },
  {
   "cell_type": "code",
   "execution_count": null,
   "id": "91ce59d6",
   "metadata": {},
   "outputs": [],
   "source": [
    "#Real gross domestic product (GDP)\n",
    "# fgdp= openbb.economy.fgdp(countries=['united_states'])\n",
    "# fgdp.reset_index(inplace=True)\n",
    "# fgdp.rename(columns={'united_states': 'Real gross domestic product (GDP) US'}, inplace=True)\n",
    "# # Convert the 'date' column to a datetime object and extract the quarter\n",
    "# fgdp['TIME'] = pd.to_datetime(fgdp['TIME'])\n",
    "# fgdp['quarter_year'] = 'Q' + fgdp['TIME'].dt.quarter.astype(str) + '_' + fgdp['TIME'].dt.year.astype(str)\n",
    "# fgdp.tail(5)"
   ]
  },
  {
   "cell_type": "code",
   "execution_count": null,
   "id": "8950868d",
   "metadata": {},
   "outputs": [],
   "source": [
    "# merged_data = merged_data.merge(fgdp, on='quarter_year',how='left', suffixes=('_left', '_right'))\n",
    "# merged_data.shape"
   ]
  },
  {
   "cell_type": "code",
   "execution_count": null,
   "id": "b267bb2b",
   "metadata": {},
   "outputs": [],
   "source": [
    "# gdp= openbb.economy.gdp(countries=['united_states'])\n",
    "# gdp.reset_index(inplace=True)\n",
    "# gdp.rename(columns={'united_states': 'GDP per Capita US'}, inplace=True)\n",
    "# # Convert the 'date' column to a datetime object and extract the quarter\n",
    "# gdp['TIME'] = pd.to_datetime(gdp['TIME'])\n",
    "# gdp['year'] = gdp['TIME'].dt.year\n",
    "# gdp.tail(5)"
   ]
  },
  {
   "cell_type": "code",
   "execution_count": null,
   "id": "b47e09a9",
   "metadata": {},
   "outputs": [],
   "source": [
    "# merged_data = merged_data.merge(gdp, on='year',how='left', suffixes=('_left', '_right'))\n",
    "# merged_data.shape"
   ]
  },
  {
   "cell_type": "code",
   "execution_count": null,
   "id": "e43e893c",
   "metadata": {},
   "outputs": [],
   "source": [
    "bb= openbb.economy"
   ]
  },
  {
   "cell_type": "code",
   "execution_count": null,
   "id": "da27ee96",
   "metadata": {},
   "outputs": [],
   "source": [
    "data_tuple= bb.macro()\n",
    "# Extract the DataFrame from the tuple\n",
    "cpi_df = data_tuple[0]\n",
    "\n",
    "# Reset the index to make 'date' a column\n",
    "cpi_df.reset_index(inplace=True)\n",
    "\n",
    "# Rename the columns\n",
    "cpi_df.columns = ['date', 'CPI']\n",
    "\n",
    "# Convert 'date' column to datetime type\n",
    "cpi_df['date'] = pd.to_datetime(cpi_df['date'])\n",
    "\n",
    "# Print the DataFrame\n",
    "cpi_df\n",
    "\n"
   ]
  },
  {
   "cell_type": "code",
   "execution_count": null,
   "id": "7fdcc10e",
   "metadata": {},
   "outputs": [],
   "source": [
    "# Plot CPI over time \n",
    "plt.figure(figsize=(10, 5))\n",
    "sns.lineplot(x='date', y='CPI', data=cpi_df)\n",
    "plt.title('Consumer Price Index Over Time')\n",
    "plt.xlabel('Date')\n",
    "plt.ylabel('CPI')\n",
    "plt.show()"
   ]
  },
  {
   "cell_type": "code",
   "execution_count": null,
   "id": "4478fb89",
   "metadata": {},
   "outputs": [],
   "source": [
    "cpi_df['year_month'] = cpi_df['date'].dt.strftime('%Y-%m')\n",
    "cpi_df.rename(columns={'CPI': 'US CPI'}, inplace=True)\n",
    "cpi_df.tail()"
   ]
  },
  {
   "cell_type": "code",
   "execution_count": null,
   "id": "65ca5d1c",
   "metadata": {},
   "outputs": [],
   "source": [
    "cpi_df['year_month'] = cpi_df['date'].dt.strftime('%Y-%m')\n",
    "cpi_df.rename(columns={'CPI': 'US CPI'}, inplace=True)\n",
    "merged_data['year_month']= merged_data['date'].dt.strftime('%Y-%m')"
   ]
  },
  {
   "cell_type": "code",
   "execution_count": null,
   "id": "759ba180",
   "metadata": {},
   "outputs": [],
   "source": [
    "merged_data = merged_data.merge(cpi_df, on='year_month',how='left', suffixes=('_left', '_right'))\n",
    "merged_data.shape"
   ]
  },
  {
   "cell_type": "code",
   "execution_count": null,
   "id": "c5700160",
   "metadata": {},
   "outputs": [],
   "source": [
    "merged_data.rename(columns={'date_left': 'Date'}, inplace=True)"
   ]
  },
  {
   "cell_type": "code",
   "execution_count": null,
   "id": "38b59e3c",
   "metadata": {},
   "outputs": [],
   "source": [
    "merged_data.columns\n",
    "#merged_data.drop(columns={'TIME_right', 'TIME_left', 'date_right'}, inplace=True)"
   ]
  },
  {
   "cell_type": "code",
   "execution_count": null,
   "id": "bb7ab81f",
   "metadata": {},
   "outputs": [],
   "source": [
    "pd.set_option('display.max_columns', None)\n",
    "\n",
    "merged_data"
   ]
  },
  {
   "cell_type": "code",
   "execution_count": null,
   "id": "409376b7",
   "metadata": {},
   "outputs": [],
   "source": [
    "merged_data.isna().sum()"
   ]
  },
  {
   "cell_type": "code",
   "execution_count": null,
   "id": "a2bab8a0",
   "metadata": {},
   "outputs": [],
   "source": [
    "cry_dd= openbb.crypto.dd\n",
    "cry_dd"
   ]
  },
  {
   "cell_type": "code",
   "execution_count": null,
   "id": "4fa5f1c0",
   "metadata": {},
   "outputs": [],
   "source": [
    "# Count the number of observations by coin \n",
    "merged_data.groupby('coin').count()"
   ]
  }
 ],
 "metadata": {
  "kernelspec": {
   "display_name": "Python 3 (ipykernel)",
   "language": "python",
   "name": "python3"
  },
  "language_info": {
   "codemirror_mode": {
    "name": "ipython",
    "version": 3
   },
   "file_extension": ".py",
   "mimetype": "text/x-python",
   "name": "python",
   "nbconvert_exporter": "python",
   "pygments_lexer": "ipython3",
   "version": "3.9.18"
  }
 },
 "nbformat": 4,
 "nbformat_minor": 5
}
